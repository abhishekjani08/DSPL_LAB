{
 "cells": [
  {
   "cell_type": "code",
   "execution_count": 24,
   "id": "14591827",
   "metadata": {},
   "outputs": [],
   "source": [
    "# import the pandas library\n",
    "import pandas as pd\n",
    "import numpy as np"
   ]
  },
  {
   "cell_type": "code",
   "execution_count": 25,
   "id": "3a3a037e",
   "metadata": {},
   "outputs": [],
   "source": [
    "# read csv\n",
    "df = pd.read_csv(\"D:\\DS using python lab\\insurance.csv\") "
   ]
  },
  {
   "cell_type": "code",
   "execution_count": 26,
   "id": "a21a497a",
   "metadata": {},
   "outputs": [
    {
     "name": "stdout",
     "output_type": "stream",
     "text": [
      "(1338, 7)\n"
     ]
    }
   ],
   "source": [
    "# To print no. of samples and attributes\n",
    "print(df.shape)"
   ]
  },
  {
   "cell_type": "code",
   "execution_count": 29,
   "id": "85a6e3d7",
   "metadata": {},
   "outputs": [
    {
     "name": "stdout",
     "output_type": "stream",
     "text": [
      "['age', 'sex', 'bmi', 'children', 'smoker', 'region', 'charges']\n"
     ]
    }
   ],
   "source": [
    "# getting the columns of the dataset\n",
    "columns = list(df.columns)\n",
    "print(columns)"
   ]
  },
  {
   "cell_type": "code",
   "execution_count": 4,
   "id": "9555bc50",
   "metadata": {},
   "outputs": [
    {
     "name": "stdout",
     "output_type": "stream",
     "text": [
      "   age     sex     bmi  children smoker     region      charges\n",
      "0   19  female  27.900         0    yes  southwest  16884.92400\n",
      "1   18    male  33.770         1     no  southeast   1725.55230\n",
      "2   28    male  33.000         3     no  southeast   4449.46200\n",
      "3   33    male  22.705         0     no  northwest  21984.47061\n",
      "4   32    male  28.880         0     no  northwest   3866.85520\n"
     ]
    }
   ],
   "source": [
    "# To print first five samples\n",
    "print(df.head()) "
   ]
  },
  {
   "cell_type": "code",
   "execution_count": 5,
   "id": "3c121e96",
   "metadata": {},
   "outputs": [
    {
     "name": "stdout",
     "output_type": "stream",
     "text": [
      "               age          bmi     children       charges\n",
      "count  1338.000000  1338.000000  1338.000000   1338.000000\n",
      "mean     39.207025    30.663397     1.094918  13270.422265\n",
      "std      14.049960     6.098187     1.205493  12110.011237\n",
      "min      18.000000    15.960000     0.000000   1121.873900\n",
      "25%      27.000000    26.296250     0.000000   4740.287150\n",
      "50%      39.000000    30.400000     1.000000   9382.033000\n",
      "75%      51.000000    34.693750     2.000000  16639.912515\n",
      "max      64.000000    53.130000     5.000000  63770.428010\n"
     ]
    }
   ],
   "source": [
    "#Describing dataset \n",
    "print(df.describe()) "
   ]
  },
  {
   "cell_type": "code",
   "execution_count": 31,
   "id": "9be19556",
   "metadata": {},
   "outputs": [
    {
     "name": "stdout",
     "output_type": "stream",
     "text": [
      "age         0\n",
      "sex         0\n",
      "bmi         0\n",
      "children    0\n",
      "smoker      0\n",
      "region      0\n",
      "charges     0\n",
      "dtype: int64\n",
      "Missing values distribution: \n",
      "age         0.0\n",
      "sex         0.0\n",
      "bmi         0.0\n",
      "children    0.0\n",
      "smoker      0.0\n",
      "region      0.0\n",
      "charges     0.0\n",
      "dtype: float64\n"
     ]
    }
   ],
   "source": [
    "#New dataframe \n",
    "new_df = df\n",
    "#new_df.isnull()\n",
    "#Checking for null values \n",
    "print(new_df.isnull().sum()) \n",
    "print(\"Missing values distribution: \")\n",
    "print(new_df.isnull().mean())\n",
    "#print(new_df.shape) \n",
    "#new_df.duplicated()"
   ]
  },
  {
   "cell_type": "code",
   "execution_count": 20,
   "id": "8ce336fc",
   "metadata": {},
   "outputs": [
    {
     "name": "stdout",
     "output_type": "stream",
     "text": [
      "False\n",
      "0       False\n",
      "1       False\n",
      "2       False\n",
      "3       False\n",
      "4       False\n",
      "        ...  \n",
      "1333    False\n",
      "1334    False\n",
      "1335    False\n",
      "1336    False\n",
      "1337    False\n",
      "Length: 1337, dtype: bool\n",
      "(1337, 7)\n"
     ]
    }
   ],
   "source": [
    "# #Checking for duplicates\n",
    "print(new_df.duplicated().any()) \n",
    "print(new_df.duplicated())\n",
    "print(new_df.shape) "
   ]
  },
  {
   "cell_type": "code",
   "execution_count": 32,
   "id": "4745c3ed",
   "metadata": {},
   "outputs": [
    {
     "name": "stdout",
     "output_type": "stream",
     "text": [
      "Column datatypes: \n",
      "age           int64\n",
      "sex          object\n",
      "bmi         float64\n",
      "children      int64\n",
      "smoker       object\n",
      "region       object\n",
      "charges     float64\n",
      "dtype: object\n"
     ]
    }
   ],
   "source": [
    "print(\"Column datatypes: \")\n",
    "print(new_df.dtypes)"
   ]
  },
  {
   "cell_type": "code",
   "execution_count": 19,
   "id": "0ab6e392",
   "metadata": {},
   "outputs": [
    {
     "name": "stdout",
     "output_type": "stream",
     "text": [
      "   age sex     bmi  children smoker region      charges\n",
      "0   19   0  27.900         0    yes      3  16884.92400\n",
      "1   18   1  33.770         1     no      2   1725.55230\n",
      "2   28   1  33.000         3     no      2   4449.46200\n",
      "3   33   1  22.705         0     no      1  21984.47061\n",
      "4   32   1  28.880         0     no      1   3866.85520\n",
      "(1337, 7)\n"
     ]
    }
   ],
   "source": [
    "#Replacing string values with integer \n",
    "new_df[\"sex\"].replace({\"male\":\"1\", \"female\":\"0\"}, inplace = True) \n",
    "print(new_df.head())\n",
    "print(new_df.shape) "
   ]
  },
  {
   "cell_type": "code",
   "execution_count": 16,
   "id": "be1b40b9",
   "metadata": {},
   "outputs": [
    {
     "name": "stdout",
     "output_type": "stream",
     "text": [
      "['southwest' 'southeast' 'northwest' 'northeast']\n"
     ]
    }
   ],
   "source": [
    "#Finding unique values in \"Region\" \n",
    "print(new_df[\"region\"].unique()) "
   ]
  },
  {
   "cell_type": "code",
   "execution_count": 17,
   "id": "916a2dba",
   "metadata": {},
   "outputs": [
    {
     "name": "stdout",
     "output_type": "stream",
     "text": [
      "   age sex     bmi  children smoker region      charges\n",
      "0   19   0  27.900         0    yes      3  16884.92400\n",
      "1   18   1  33.770         1     no      2   1725.55230\n",
      "2   28   1  33.000         3     no      2   4449.46200\n",
      "3   33   1  22.705         0     no      1  21984.47061\n",
      "4   32   1  28.880         0     no      1   3866.85520\n"
     ]
    }
   ],
   "source": [
    "#Replacing string values with int\n",
    " \n",
    "new_df['region'].replace({'northeast':'0','northwest':'1','southeast':'2','southwest':' 3'}, inplace = True)\n",
    "print(new_df.head())"
   ]
  },
  {
   "cell_type": "code",
   "execution_count": 18,
   "id": "8385cbed",
   "metadata": {},
   "outputs": [
    {
     "name": "stdout",
     "output_type": "stream",
     "text": [
      "(1337, 7)\n",
      "   age sex     bmi  children smoker region      charges\n",
      "0   19   0  27.900         0    yes      3  16884.92400\n",
      "1   18   1  33.770         1     no      2   1725.55230\n",
      "2   28   1  33.000         3     no      2   4449.46200\n",
      "3   33   1  22.705         0     no      1  21984.47061\n",
      "4   32   1  28.880         0     no      1   3866.85520\n"
     ]
    }
   ],
   "source": [
    "#Describing data after preprocessing \n",
    "print(new_df.shape) \n",
    "print(new_df.head())"
   ]
  },
  {
   "cell_type": "code",
   "execution_count": null,
   "id": "6cf064d2",
   "metadata": {},
   "outputs": [],
   "source": []
  }
 ],
 "metadata": {
  "kernelspec": {
   "display_name": "Python 3 (ipykernel)",
   "language": "python",
   "name": "python3"
  },
  "language_info": {
   "codemirror_mode": {
    "name": "ipython",
    "version": 3
   },
   "file_extension": ".py",
   "mimetype": "text/x-python",
   "name": "python",
   "nbconvert_exporter": "python",
   "pygments_lexer": "ipython3",
   "version": "3.9.13"
  }
 },
 "nbformat": 4,
 "nbformat_minor": 5
}
