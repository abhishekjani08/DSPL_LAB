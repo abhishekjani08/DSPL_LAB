{
 "cells": [
  {
   "cell_type": "code",
   "execution_count": 1,
   "id": "42e975f2",
   "metadata": {},
   "outputs": [],
   "source": [
    "#here importing the pnadas and numpy library\n",
    "import pandas as pd\n",
    "import numpy as np "
   ]
  },
  {
   "cell_type": "code",
   "execution_count": 2,
   "id": "8adf18b5",
   "metadata": {},
   "outputs": [],
   "source": [
    "#reading the csv file\n",
    "dataframe = pd.read_csv(\"House_Rent_Dataset-main.csv\")"
   ]
  },
  {
   "cell_type": "code",
   "execution_count": 3,
   "id": "bace2065",
   "metadata": {},
   "outputs": [
    {
     "name": "stdout",
     "output_type": "stream",
     "text": [
      "(4746, 12)\n"
     ]
    }
   ],
   "source": [
    "#printing the number of samples and attributes of dataset\n",
    "print(dataframe.shape)"
   ]
  },
  {
   "cell_type": "code",
   "execution_count": 4,
   "id": "b2a4c0e7",
   "metadata": {},
   "outputs": [
    {
     "name": "stdout",
     "output_type": "stream",
     "text": [
      "['Posted On', 'BHK', 'Rent', 'Size', 'Floor', 'Area Type', 'Area Locality', 'City', 'Furnishing Status', 'Tenant Preferred', 'Bathroom', 'Point of Contact']\n"
     ]
    }
   ],
   "source": [
    "#printing the coiumns of data set\n",
    "columns = list(dataframe.columns)\n",
    "print(columns)"
   ]
  },
  {
   "cell_type": "code",
   "execution_count": 5,
   "id": "bf39c511",
   "metadata": {},
   "outputs": [
    {
     "name": "stdout",
     "output_type": "stream",
     "text": [
      "    Posted On  BHK   Rent  Size            Floor Area Type  \\\n",
      "0  2022-05-18    2  10000  1100  Ground out of 2         1   \n",
      "1  2022-05-13    2  20000   800       1 out of 3         1   \n",
      "2  2022-05-16    2  17000  1000       1 out of 3         1   \n",
      "3  2022-07-04    2  10000   800       1 out of 2         1   \n",
      "4  2022-05-09    2   7500   850       1 out of 2         2   \n",
      "\n",
      "              Area Locality     City  Furnishing Status  Tenant Preferred  \\\n",
      "0                    Bandel  Kolkata                  1  Bachelors/Family   \n",
      "1  Phool Bagan, Kankurgachi  Kolkata                  2  Bachelors/Family   \n",
      "2   Salt Lake City Sector 2  Kolkata                  2  Bachelors/Family   \n",
      "3               Dumdum Park  Kolkata                  1  Bachelors/Family   \n",
      "4             South Dum Dum  Kolkata                  1         Bachelors   \n",
      "\n",
      "   Bathroom Point of Contact  \n",
      "0         2    Contact Owner  \n",
      "1         1    Contact Owner  \n",
      "2         1    Contact Owner  \n",
      "3         1    Contact Owner  \n",
      "4         1    Contact Owner  \n"
     ]
    }
   ],
   "source": [
    "#print the first 5 samples\n",
    "print(dataframe.head())"
   ]
  },
  {
   "cell_type": "code",
   "execution_count": 6,
   "id": "3c76a309",
   "metadata": {},
   "outputs": [
    {
     "name": "stdout",
     "output_type": "stream",
     "text": [
      "['2022-05-13' 2 20000 800 '1 out of 3' '1' 'Phool Bagan, Kankurgachi'\n",
      " 'Kolkata' 2 'Bachelors/Family' 1 'Contact Owner']\n"
     ]
    }
   ],
   "source": [
    "array = dataframe.values\n",
    "print(array[1])"
   ]
  },
  {
   "cell_type": "code",
   "execution_count": 7,
   "id": "c4afa01c",
   "metadata": {},
   "outputs": [
    {
     "name": "stdout",
     "output_type": "stream",
     "text": [
      "(4746, 12)\n"
     ]
    }
   ],
   "source": [
    "#created a new dataframe\n",
    "new_dataframe = dataframe\n",
    "isnull = new_dataframe.isnull()\n",
    "# print(isnull) #checking null value or not \n",
    "sum = new_dataframe.isnull().sum()\n",
    "# print(sum)\n",
    "mean = new_dataframe.isnull().mean()\n",
    "# print(mean)\n",
    "median = new_dataframe.isnull().median()\n",
    "# print(median)\n",
    "print(new_dataframe.shape)"
   ]
  },
  {
   "cell_type": "code",
   "execution_count": 8,
   "id": "f41abc95",
   "metadata": {},
   "outputs": [
    {
     "name": "stdout",
     "output_type": "stream",
     "text": [
      "0       False\n",
      "1       False\n",
      "2       False\n",
      "3        True\n",
      "4       False\n",
      "        ...  \n",
      "4741     True\n",
      "4742     True\n",
      "4743     True\n",
      "4744     True\n",
      "4745     True\n",
      "Name: Rent, Length: 4746, dtype: bool\n",
      "0       False\n",
      "1       False\n",
      "2       False\n",
      "3        True\n",
      "4       False\n",
      "        ...  \n",
      "4741     True\n",
      "4742     True\n",
      "4743     True\n",
      "4744     True\n",
      "4745     True\n",
      "Name: Size, Length: 4746, dtype: bool\n",
      "False\n"
     ]
    }
   ],
   "source": [
    "#finding duplicate in dataset\n",
    "duplicate = new_dataframe.duplicated()\n",
    "# print(duplicate)\n",
    "# finding dupicate oin particular column\n",
    "rent = new_dataframe.Rent.duplicated()\n",
    "print(rent)\n",
    "print(new_dataframe.Size.duplicated())\n",
    "# finding any duplicate value present in dataset --> it will return false is there is no duplicate value\n",
    "print(new_dataframe.duplicated().any())"
   ]
  },
  {
   "cell_type": "code",
   "execution_count": 9,
   "id": "c6e206ac",
   "metadata": {},
   "outputs": [
    {
     "name": "stdout",
     "output_type": "stream",
     "text": [
      "Posted On            object\n",
      "BHK                   int64\n",
      "Rent                  int64\n",
      "Size                  int64\n",
      "Floor                object\n",
      "Area Type            object\n",
      "Area Locality        object\n",
      "City                 object\n",
      "Furnishing Status     int64\n",
      "Tenant Preferred     object\n",
      "Bathroom              int64\n",
      "Point of Contact     object\n",
      "dtype: object\n"
     ]
    }
   ],
   "source": [
    "# printing datatype of column\n",
    "dttypes = new_dataframe.dtypes\n",
    "print(dttypes);"
   ]
  },
  {
   "cell_type": "code",
   "execution_count": 10,
   "id": "55ac9de4",
   "metadata": {},
   "outputs": [
    {
     "name": "stdout",
     "output_type": "stream",
     "text": [
      "(4746, 12)\n",
      "    Posted On  BHK   Rent  Size            Floor Area Type  \\\n",
      "0  2022-05-18    2  10000  1100  Ground out of 2         1   \n",
      "1  2022-05-13    2  20000   800       1 out of 3         1   \n",
      "2  2022-05-16    2  17000  1000       1 out of 3         1   \n",
      "3  2022-07-04    2  10000   800       1 out of 2         1   \n",
      "4  2022-05-09    2   7500   850       1 out of 2         2   \n",
      "\n",
      "              Area Locality     City  Furnishing Status  Tenant Preferred  \\\n",
      "0                    Bandel  Kolkata                  1  Bachelors/Family   \n",
      "1  Phool Bagan, Kankurgachi  Kolkata                  2  Bachelors/Family   \n",
      "2   Salt Lake City Sector 2  Kolkata                  2  Bachelors/Family   \n",
      "3               Dumdum Park  Kolkata                  1  Bachelors/Family   \n",
      "4             South Dum Dum  Kolkata                  1         Bachelors   \n",
      "\n",
      "   Bathroom Point of Contact  \n",
      "0         2    Contact Owner  \n",
      "1         1    Contact Owner  \n",
      "2         1    Contact Owner  \n",
      "3         1    Contact Owner  \n",
      "4         1    Contact Owner  \n"
     ]
    }
   ],
   "source": [
    "# changing the attributes of dataset for training prupose\n",
    "new_dataframe.replace({\"Super Area\" : \"1\" , \"Carpet Area\": \"2\"},inplace = True)\n",
    "print(new_dataframe.shape)\n",
    "print(new_dataframe.head())"
   ]
  },
  {
   "cell_type": "code",
   "execution_count": 11,
   "id": "d40ef2a5",
   "metadata": {},
   "outputs": [
    {
     "name": "stdout",
     "output_type": "stream",
     "text": [
      "(4746, 12)\n",
      "    Posted On  BHK   Rent  Size            Floor Area Type  \\\n",
      "0  2022-05-18    2  10000  1100  Ground out of 2         1   \n",
      "1  2022-05-13    2  20000   800       1 out of 3         1   \n",
      "2  2022-05-16    2  17000  1000       1 out of 3         1   \n",
      "3  2022-07-04    2  10000   800       1 out of 2         1   \n",
      "4  2022-05-09    2   7500   850       1 out of 2         2   \n",
      "\n",
      "              Area Locality     City  Furnishing Status  Tenant Preferred  \\\n",
      "0                    Bandel  Kolkata                  1  Bachelors/Family   \n",
      "1  Phool Bagan, Kankurgachi  Kolkata                  2  Bachelors/Family   \n",
      "2   Salt Lake City Sector 2  Kolkata                  2  Bachelors/Family   \n",
      "3               Dumdum Park  Kolkata                  1  Bachelors/Family   \n",
      "4             South Dum Dum  Kolkata                  1         Bachelors   \n",
      "\n",
      "   Bathroom Point of Contact  \n",
      "0         2    Contact Owner  \n",
      "1         1    Contact Owner  \n",
      "2         1    Contact Owner  \n",
      "3         1    Contact Owner  \n",
      "4         1    Contact Owner  \n"
     ]
    }
   ],
   "source": [
    "# replacing the Furninshing status\n",
    "new_dataframe.replace({\"Unfurnished\" : \"1\" , \"Furnished\": \"2\" , \"Semi-Furnished\" : \"2\"},inplace = True)\n",
    "print(new_dataframe.shape)\n",
    "print(new_dataframe.head())"
   ]
  },
  {
   "cell_type": "code",
   "execution_count": 12,
   "id": "41148bd0",
   "metadata": {},
   "outputs": [
    {
     "data": {
      "text/html": [
       "<div>\n",
       "<style scoped>\n",
       "    .dataframe tbody tr th:only-of-type {\n",
       "        vertical-align: middle;\n",
       "    }\n",
       "\n",
       "    .dataframe tbody tr th {\n",
       "        vertical-align: top;\n",
       "    }\n",
       "\n",
       "    .dataframe thead th {\n",
       "        text-align: right;\n",
       "    }\n",
       "</style>\n",
       "<table border=\"1\" class=\"dataframe\">\n",
       "  <thead>\n",
       "    <tr style=\"text-align: right;\">\n",
       "      <th></th>\n",
       "      <th>Posted On</th>\n",
       "      <th>BHK</th>\n",
       "      <th>Rent</th>\n",
       "      <th>Size</th>\n",
       "      <th>Floor</th>\n",
       "      <th>Area Type</th>\n",
       "      <th>Area Locality</th>\n",
       "      <th>City</th>\n",
       "      <th>Furnishing Status</th>\n",
       "      <th>Tenant Preferred</th>\n",
       "      <th>Bathroom</th>\n",
       "    </tr>\n",
       "  </thead>\n",
       "  <tbody>\n",
       "    <tr>\n",
       "      <th>0</th>\n",
       "      <td>2022-05-18</td>\n",
       "      <td>2</td>\n",
       "      <td>10000</td>\n",
       "      <td>1100</td>\n",
       "      <td>Ground out of 2</td>\n",
       "      <td>1</td>\n",
       "      <td>Bandel</td>\n",
       "      <td>Kolkata</td>\n",
       "      <td>1</td>\n",
       "      <td>Bachelors/Family</td>\n",
       "      <td>2</td>\n",
       "    </tr>\n",
       "    <tr>\n",
       "      <th>1</th>\n",
       "      <td>2022-05-13</td>\n",
       "      <td>2</td>\n",
       "      <td>20000</td>\n",
       "      <td>800</td>\n",
       "      <td>1 out of 3</td>\n",
       "      <td>1</td>\n",
       "      <td>Phool Bagan, Kankurgachi</td>\n",
       "      <td>Kolkata</td>\n",
       "      <td>2</td>\n",
       "      <td>Bachelors/Family</td>\n",
       "      <td>1</td>\n",
       "    </tr>\n",
       "    <tr>\n",
       "      <th>2</th>\n",
       "      <td>2022-05-16</td>\n",
       "      <td>2</td>\n",
       "      <td>17000</td>\n",
       "      <td>1000</td>\n",
       "      <td>1 out of 3</td>\n",
       "      <td>1</td>\n",
       "      <td>Salt Lake City Sector 2</td>\n",
       "      <td>Kolkata</td>\n",
       "      <td>2</td>\n",
       "      <td>Bachelors/Family</td>\n",
       "      <td>1</td>\n",
       "    </tr>\n",
       "    <tr>\n",
       "      <th>3</th>\n",
       "      <td>2022-07-04</td>\n",
       "      <td>2</td>\n",
       "      <td>10000</td>\n",
       "      <td>800</td>\n",
       "      <td>1 out of 2</td>\n",
       "      <td>1</td>\n",
       "      <td>Dumdum Park</td>\n",
       "      <td>Kolkata</td>\n",
       "      <td>1</td>\n",
       "      <td>Bachelors/Family</td>\n",
       "      <td>1</td>\n",
       "    </tr>\n",
       "    <tr>\n",
       "      <th>4</th>\n",
       "      <td>2022-05-09</td>\n",
       "      <td>2</td>\n",
       "      <td>7500</td>\n",
       "      <td>850</td>\n",
       "      <td>1 out of 2</td>\n",
       "      <td>2</td>\n",
       "      <td>South Dum Dum</td>\n",
       "      <td>Kolkata</td>\n",
       "      <td>1</td>\n",
       "      <td>Bachelors</td>\n",
       "      <td>1</td>\n",
       "    </tr>\n",
       "    <tr>\n",
       "      <th>...</th>\n",
       "      <td>...</td>\n",
       "      <td>...</td>\n",
       "      <td>...</td>\n",
       "      <td>...</td>\n",
       "      <td>...</td>\n",
       "      <td>...</td>\n",
       "      <td>...</td>\n",
       "      <td>...</td>\n",
       "      <td>...</td>\n",
       "      <td>...</td>\n",
       "      <td>...</td>\n",
       "    </tr>\n",
       "    <tr>\n",
       "      <th>4741</th>\n",
       "      <td>2022-05-18</td>\n",
       "      <td>2</td>\n",
       "      <td>15000</td>\n",
       "      <td>1000</td>\n",
       "      <td>3 out of 5</td>\n",
       "      <td>2</td>\n",
       "      <td>Bandam Kommu</td>\n",
       "      <td>Hyderabad</td>\n",
       "      <td>2</td>\n",
       "      <td>Bachelors/Family</td>\n",
       "      <td>2</td>\n",
       "    </tr>\n",
       "    <tr>\n",
       "      <th>4742</th>\n",
       "      <td>2022-05-15</td>\n",
       "      <td>3</td>\n",
       "      <td>29000</td>\n",
       "      <td>2000</td>\n",
       "      <td>1 out of 4</td>\n",
       "      <td>1</td>\n",
       "      <td>Manikonda, Hyderabad</td>\n",
       "      <td>Hyderabad</td>\n",
       "      <td>2</td>\n",
       "      <td>Bachelors/Family</td>\n",
       "      <td>3</td>\n",
       "    </tr>\n",
       "    <tr>\n",
       "      <th>4743</th>\n",
       "      <td>2022-07-10</td>\n",
       "      <td>3</td>\n",
       "      <td>35000</td>\n",
       "      <td>1750</td>\n",
       "      <td>3 out of 5</td>\n",
       "      <td>2</td>\n",
       "      <td>Himayath Nagar, NH 7</td>\n",
       "      <td>Hyderabad</td>\n",
       "      <td>2</td>\n",
       "      <td>Bachelors/Family</td>\n",
       "      <td>3</td>\n",
       "    </tr>\n",
       "    <tr>\n",
       "      <th>4744</th>\n",
       "      <td>2022-07-06</td>\n",
       "      <td>3</td>\n",
       "      <td>45000</td>\n",
       "      <td>1500</td>\n",
       "      <td>23 out of 34</td>\n",
       "      <td>2</td>\n",
       "      <td>Gachibowli</td>\n",
       "      <td>Hyderabad</td>\n",
       "      <td>2</td>\n",
       "      <td>Family</td>\n",
       "      <td>2</td>\n",
       "    </tr>\n",
       "    <tr>\n",
       "      <th>4745</th>\n",
       "      <td>2022-05-04</td>\n",
       "      <td>2</td>\n",
       "      <td>15000</td>\n",
       "      <td>1000</td>\n",
       "      <td>4 out of 5</td>\n",
       "      <td>2</td>\n",
       "      <td>Suchitra Circle</td>\n",
       "      <td>Hyderabad</td>\n",
       "      <td>1</td>\n",
       "      <td>Bachelors</td>\n",
       "      <td>2</td>\n",
       "    </tr>\n",
       "  </tbody>\n",
       "</table>\n",
       "<p>4746 rows × 11 columns</p>\n",
       "</div>"
      ],
      "text/plain": [
       "       Posted On  BHK   Rent  Size            Floor Area Type  \\\n",
       "0     2022-05-18    2  10000  1100  Ground out of 2         1   \n",
       "1     2022-05-13    2  20000   800       1 out of 3         1   \n",
       "2     2022-05-16    2  17000  1000       1 out of 3         1   \n",
       "3     2022-07-04    2  10000   800       1 out of 2         1   \n",
       "4     2022-05-09    2   7500   850       1 out of 2         2   \n",
       "...          ...  ...    ...   ...              ...       ...   \n",
       "4741  2022-05-18    2  15000  1000       3 out of 5         2   \n",
       "4742  2022-05-15    3  29000  2000       1 out of 4         1   \n",
       "4743  2022-07-10    3  35000  1750       3 out of 5         2   \n",
       "4744  2022-07-06    3  45000  1500     23 out of 34         2   \n",
       "4745  2022-05-04    2  15000  1000       4 out of 5         2   \n",
       "\n",
       "                 Area Locality       City  Furnishing Status  \\\n",
       "0                       Bandel    Kolkata                  1   \n",
       "1     Phool Bagan, Kankurgachi    Kolkata                  2   \n",
       "2      Salt Lake City Sector 2    Kolkata                  2   \n",
       "3                  Dumdum Park    Kolkata                  1   \n",
       "4                South Dum Dum    Kolkata                  1   \n",
       "...                        ...        ...                ...   \n",
       "4741              Bandam Kommu  Hyderabad                  2   \n",
       "4742      Manikonda, Hyderabad  Hyderabad                  2   \n",
       "4743      Himayath Nagar, NH 7  Hyderabad                  2   \n",
       "4744                Gachibowli  Hyderabad                  2   \n",
       "4745           Suchitra Circle  Hyderabad                  1   \n",
       "\n",
       "      Tenant Preferred  Bathroom  \n",
       "0     Bachelors/Family         2  \n",
       "1     Bachelors/Family         1  \n",
       "2     Bachelors/Family         1  \n",
       "3     Bachelors/Family         1  \n",
       "4            Bachelors         1  \n",
       "...                ...       ...  \n",
       "4741  Bachelors/Family         2  \n",
       "4742  Bachelors/Family         3  \n",
       "4743  Bachelors/Family         3  \n",
       "4744            Family         2  \n",
       "4745         Bachelors         2  \n",
       "\n",
       "[4746 rows x 11 columns]"
      ]
     },
     "execution_count": 12,
     "metadata": {},
     "output_type": "execute_result"
    }
   ],
   "source": [
    "new_dataframe.drop(['Point of Contact'], axis=1)"
   ]
  },
  {
   "cell_type": "code",
   "execution_count": null,
   "id": "b35c5eff",
   "metadata": {},
   "outputs": [],
   "source": []
  }
 ],
 "metadata": {
  "kernelspec": {
   "display_name": "Python 3 (ipykernel)",
   "language": "python",
   "name": "python3"
  },
  "language_info": {
   "codemirror_mode": {
    "name": "ipython",
    "version": 3
   },
   "file_extension": ".py",
   "mimetype": "text/x-python",
   "name": "python",
   "nbconvert_exporter": "python",
   "pygments_lexer": "ipython3",
   "version": "3.9.7"
  },
  "vscode": {
   "interpreter": {
    "hash": "26de051ba29f2982a8de78e945f0abaf191376122a1563185a90213a26c5da77"
   }
  }
 },
 "nbformat": 4,
 "nbformat_minor": 5
}
