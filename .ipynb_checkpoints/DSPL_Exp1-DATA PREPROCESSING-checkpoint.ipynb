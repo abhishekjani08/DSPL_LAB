{
 "cells": [
  {
   "cell_type": "code",
   "execution_count": 7,
   "id": "42e975f2",
   "metadata": {},
   "outputs": [],
   "source": [
    "#here importing the pnadas and numpy library\n",
    "import pandas as pd\n",
    "import numpy as np "
   ]
  },
  {
   "cell_type": "code",
   "execution_count": 29,
   "id": "8adf18b5",
   "metadata": {},
   "outputs": [],
   "source": [
    "#reading the csv file\n",
    "dataframe = pd.read_csv(\"D:\\TEIT_17_DSPL\\house rent prediction data main\\House_Rent_Dataset.csv\")"
   ]
  },
  {
   "cell_type": "code",
   "execution_count": 9,
   "id": "bace2065",
   "metadata": {},
   "outputs": [
    {
     "name": "stdout",
     "output_type": "stream",
     "text": [
      "(4746, 12)\n"
     ]
    }
   ],
   "source": [
    "#printing the number of samples and attributes of dataset\n",
    "print(dataframe.shape)"
   ]
  },
  {
   "cell_type": "code",
   "execution_count": 11,
   "id": "b2a4c0e7",
   "metadata": {},
   "outputs": [
    {
     "name": "stdout",
     "output_type": "stream",
     "text": [
      "['Posted On', 'BHK', 'Rent', 'Size', 'Floor', 'Area Type', 'Area Locality', 'City', 'Furnishing Status', 'Tenant Preferred', 'Bathroom', 'Point of Contact']\n"
     ]
    }
   ],
   "source": [
    "#printing the coiumns of data set\n",
    "columns = list(dataframe.columns)\n",
    "print(columns)"
   ]
  },
  {
   "cell_type": "code",
   "execution_count": 12,
   "id": "bf39c511",
   "metadata": {},
   "outputs": [
    {
     "name": "stdout",
     "output_type": "stream",
     "text": [
      "    Posted On  BHK   Rent  Size            Floor    Area Type  \\\n",
      "0  2022-05-18    2  10000  1100  Ground out of 2   Super Area   \n",
      "1  2022-05-13    2  20000   800       1 out of 3   Super Area   \n",
      "2  2022-05-16    2  17000  1000       1 out of 3   Super Area   \n",
      "3  2022-07-04    2  10000   800       1 out of 2   Super Area   \n",
      "4  2022-05-09    2   7500   850       1 out of 2  Carpet Area   \n",
      "\n",
      "              Area Locality     City Furnishing Status  Tenant Preferred  \\\n",
      "0                    Bandel  Kolkata       Unfurnished  Bachelors/Family   \n",
      "1  Phool Bagan, Kankurgachi  Kolkata    Semi-Furnished  Bachelors/Family   \n",
      "2   Salt Lake City Sector 2  Kolkata    Semi-Furnished  Bachelors/Family   \n",
      "3               Dumdum Park  Kolkata       Unfurnished  Bachelors/Family   \n",
      "4             South Dum Dum  Kolkata       Unfurnished         Bachelors   \n",
      "\n",
      "   Bathroom Point of Contact  \n",
      "0         2    Contact Owner  \n",
      "1         1    Contact Owner  \n",
      "2         1    Contact Owner  \n",
      "3         1    Contact Owner  \n",
      "4         1    Contact Owner  \n"
     ]
    }
   ],
   "source": [
    "#print the first 5 samples\n",
    "print(dataframe.head())"
   ]
  },
  {
   "cell_type": "code",
   "execution_count": 18,
   "id": "3c76a309",
   "metadata": {},
   "outputs": [
    {
     "name": "stdout",
     "output_type": "stream",
     "text": [
      "['2022-05-13' 2 20000 800 '1 out of 3' 'Super Area'\n",
      " 'Phool Bagan, Kankurgachi' 'Kolkata' 'Semi-Furnished' 'Bachelors/Family'\n",
      " 1 'Contact Owner']\n"
     ]
    }
   ],
   "source": [
    "array = dataframe.values\n",
    "print(array[1])"
   ]
  },
  {
   "cell_type": "code",
   "execution_count": 30,
   "id": "c4afa01c",
   "metadata": {},
   "outputs": [
    {
     "name": "stdout",
     "output_type": "stream",
     "text": [
      "(4746, 12)\n"
     ]
    }
   ],
   "source": [
    "#created a new dataframe\n",
    "new_dataframe = dataframe\n",
    "isnull = new_dataframe.isnull()\n",
    "# print(isnull) #checking null value or not \n",
    "sum = new_dataframe.isnull().sum()\n",
    "# print(sum)\n",
    "mean = new_dataframe.isnull().mean()\n",
    "# print(mean)\n",
    "median = new_dataframe.isnull().median()\n",
    "# print(median)\n",
    "print(new_dataframe.shape)"
   ]
  },
  {
   "cell_type": "code",
   "execution_count": 37,
   "id": "f41abc95",
   "metadata": {},
   "outputs": [
    {
     "name": "stdout",
     "output_type": "stream",
     "text": [
      "0       False\n",
      "1       False\n",
      "2       False\n",
      "3        True\n",
      "4       False\n",
      "        ...  \n",
      "4741     True\n",
      "4742     True\n",
      "4743     True\n",
      "4744     True\n",
      "4745     True\n",
      "Name: Rent, Length: 4746, dtype: bool\n",
      "0       False\n",
      "1       False\n",
      "2       False\n",
      "3        True\n",
      "4       False\n",
      "        ...  \n",
      "4741     True\n",
      "4742     True\n",
      "4743     True\n",
      "4744     True\n",
      "4745     True\n",
      "Name: Size, Length: 4746, dtype: bool\n",
      "False\n"
     ]
    }
   ],
   "source": [
    "#finding duplicate in dataset\n",
    "duplicate = new_dataframe.duplicated()\n",
    "# print(duplicate)\n",
    "# finding dupicate oin particular column\n",
    "rent = new_dataframe.Rent.duplicated()\n",
    "print(rent)\n",
    "print(new_dataframe.Size.duplicated())\n",
    "# finding any duplicate value present in dataset --> it will return false is there is no duplicate value\n",
    "print(new_dataframe.duplicated().any())"
   ]
  },
  {
   "cell_type": "code",
   "execution_count": 38,
   "id": "c6e206ac",
   "metadata": {},
   "outputs": [
    {
     "name": "stdout",
     "output_type": "stream",
     "text": [
      "Posted On            object\n",
      "BHK                   int64\n",
      "Rent                  int64\n",
      "Size                  int64\n",
      "Floor                object\n",
      "Area Type            object\n",
      "Area Locality        object\n",
      "City                 object\n",
      "Furnishing Status    object\n",
      "Tenant Preferred     object\n",
      "Bathroom              int64\n",
      "Point of Contact     object\n",
      "dtype: object\n"
     ]
    }
   ],
   "source": [
    "# printing datatype of column\n",
    "dttypes = new_dataframe.dtypes\n",
    "print(dttypes);"
   ]
  },
  {
   "cell_type": "code",
   "execution_count": 41,
   "id": "55ac9de4",
   "metadata": {},
   "outputs": [
    {
     "name": "stdout",
     "output_type": "stream",
     "text": [
      "(4746, 12)\n",
      "    Posted On  BHK   Rent  Size            Floor Area Type  \\\n",
      "0  2022-05-18    2  10000  1100  Ground out of 2         1   \n",
      "1  2022-05-13    2  20000   800       1 out of 3         1   \n",
      "2  2022-05-16    2  17000  1000       1 out of 3         1   \n",
      "3  2022-07-04    2  10000   800       1 out of 2         1   \n",
      "4  2022-05-09    2   7500   850       1 out of 2         2   \n",
      "\n",
      "              Area Locality     City Furnishing Status  Tenant Preferred  \\\n",
      "0                    Bandel  Kolkata       Unfurnished  Bachelors/Family   \n",
      "1  Phool Bagan, Kankurgachi  Kolkata    Semi-Furnished  Bachelors/Family   \n",
      "2   Salt Lake City Sector 2  Kolkata    Semi-Furnished  Bachelors/Family   \n",
      "3               Dumdum Park  Kolkata       Unfurnished  Bachelors/Family   \n",
      "4             South Dum Dum  Kolkata       Unfurnished         Bachelors   \n",
      "\n",
      "   Bathroom Point of Contact  \n",
      "0         2    Contact Owner  \n",
      "1         1    Contact Owner  \n",
      "2         1    Contact Owner  \n",
      "3         1    Contact Owner  \n",
      "4         1    Contact Owner  \n"
     ]
    }
   ],
   "source": [
    "# changing the attributes of dataset for training prupose\n",
    "new_dataframe.replace({\"Super Area\" : \"1\" , \"Carpet Area\": \"2\"},inplace = True)\n",
    "print(new_dataframe.shape)\n",
    "print(new_dataframe.head())"
   ]
  },
  {
   "cell_type": "code",
   "execution_count": 44,
   "id": "d40ef2a5",
   "metadata": {},
   "outputs": [
    {
     "name": "stdout",
     "output_type": "stream",
     "text": [
      "(4746, 12)\n",
      "    Posted On  BHK   Rent  Size            Floor Area Type  \\\n",
      "0  2022-05-18    2  10000  1100  Ground out of 2         1   \n",
      "1  2022-05-13    2  20000   800       1 out of 3         1   \n",
      "2  2022-05-16    2  17000  1000       1 out of 3         1   \n",
      "3  2022-07-04    2  10000   800       1 out of 2         1   \n",
      "4  2022-05-09    2   7500   850       1 out of 2         2   \n",
      "\n",
      "              Area Locality     City Furnishing Status  Tenant Preferred  \\\n",
      "0                    Bandel  Kolkata                 1  Bachelors/Family   \n",
      "1  Phool Bagan, Kankurgachi  Kolkata                 2  Bachelors/Family   \n",
      "2   Salt Lake City Sector 2  Kolkata                 2  Bachelors/Family   \n",
      "3               Dumdum Park  Kolkata                 1  Bachelors/Family   \n",
      "4             South Dum Dum  Kolkata                 1         Bachelors   \n",
      "\n",
      "   Bathroom Point of Contact  \n",
      "0         2    Contact Owner  \n",
      "1         1    Contact Owner  \n",
      "2         1    Contact Owner  \n",
      "3         1    Contact Owner  \n",
      "4         1    Contact Owner  \n"
     ]
    }
   ],
   "source": [
    "# replacing the Furninshing status\n",
    "new_dataframe.replace({\"Unfurnished\" : \"1\" , \"Furnished\": \"2\" , \"Semi-Furnished\" : \"2\"},inplace = True)\n",
    "print(new_dataframe.shape)\n",
    "print(new_dataframe.head())"
   ]
  },
  {
   "cell_type": "code",
   "execution_count": null,
   "id": "41148bd0",
   "metadata": {},
   "outputs": [],
   "source": []
  },
  {
   "cell_type": "code",
   "execution_count": null,
   "id": "412e92e0",
   "metadata": {},
   "outputs": [],
   "source": []
  }
 ],
 "metadata": {
  "kernelspec": {
   "display_name": "Python 3 (ipykernel)",
   "language": "python",
   "name": "python3"
  },
  "language_info": {
   "codemirror_mode": {
    "name": "ipython",
    "version": 3
   },
   "file_extension": ".py",
   "mimetype": "text/x-python",
   "name": "python",
   "nbconvert_exporter": "python",
   "pygments_lexer": "ipython3",
   "version": "3.10.2"
  },
  "vscode": {
   "interpreter": {
    "hash": "a4ab11312e917a72ca57046ecc6a9eb99b9d60a36bc3b26c3e44f0952bbd644e"
   }
  }
 },
 "nbformat": 4,
 "nbformat_minor": 5
}
