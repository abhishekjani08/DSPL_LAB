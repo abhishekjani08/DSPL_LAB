{
 "cells": [
  {
   "cell_type": "code",
   "execution_count": 51,
   "id": "85baac34",
   "metadata": {},
   "outputs": [],
   "source": [
    "import numpy as np\n",
    "import pandas as pd\n",
    "from sklearn.model_selection import train_test_split\n",
    "from sklearn.linear_model import LogisticRegression"
   ]
  },
  {
   "cell_type": "code",
   "execution_count": 52,
   "id": "a7182f11",
   "metadata": {},
   "outputs": [],
   "source": [
    "df = pd.read_csv('churn3.csv')"
   ]
  },
  {
   "cell_type": "code",
   "execution_count": 53,
   "id": "9d70fc1f",
   "metadata": {},
   "outputs": [
    {
     "data": {
      "text/html": [
       "<div>\n",
       "<style scoped>\n",
       "    .dataframe tbody tr th:only-of-type {\n",
       "        vertical-align: middle;\n",
       "    }\n",
       "\n",
       "    .dataframe tbody tr th {\n",
       "        vertical-align: top;\n",
       "    }\n",
       "\n",
       "    .dataframe thead th {\n",
       "        text-align: right;\n",
       "    }\n",
       "</style>\n",
       "<table border=\"1\" class=\"dataframe\">\n",
       "  <thead>\n",
       "    <tr style=\"text-align: right;\">\n",
       "      <th></th>\n",
       "      <th>Unnamed: 0</th>\n",
       "      <th>customer_id</th>\n",
       "      <th>vintage</th>\n",
       "      <th>age</th>\n",
       "      <th>gender</th>\n",
       "      <th>dependents</th>\n",
       "      <th>occupation</th>\n",
       "      <th>city</th>\n",
       "      <th>customer_nw_category</th>\n",
       "      <th>branch_code</th>\n",
       "      <th>churn</th>\n",
       "    </tr>\n",
       "  </thead>\n",
       "  <tbody>\n",
       "    <tr>\n",
       "      <th>0</th>\n",
       "      <td>0</td>\n",
       "      <td>1</td>\n",
       "      <td>2101</td>\n",
       "      <td>66</td>\n",
       "      <td>1.0</td>\n",
       "      <td>0.0</td>\n",
       "      <td>1.0</td>\n",
       "      <td>187.0</td>\n",
       "      <td>2</td>\n",
       "      <td>755</td>\n",
       "      <td>0</td>\n",
       "    </tr>\n",
       "    <tr>\n",
       "      <th>1</th>\n",
       "      <td>1</td>\n",
       "      <td>2</td>\n",
       "      <td>2348</td>\n",
       "      <td>35</td>\n",
       "      <td>1.0</td>\n",
       "      <td>0.0</td>\n",
       "      <td>1.0</td>\n",
       "      <td>NaN</td>\n",
       "      <td>2</td>\n",
       "      <td>3214</td>\n",
       "      <td>0</td>\n",
       "    </tr>\n",
       "    <tr>\n",
       "      <th>2</th>\n",
       "      <td>2</td>\n",
       "      <td>4</td>\n",
       "      <td>2194</td>\n",
       "      <td>31</td>\n",
       "      <td>1.0</td>\n",
       "      <td>0.0</td>\n",
       "      <td>0.0</td>\n",
       "      <td>146.0</td>\n",
       "      <td>2</td>\n",
       "      <td>41</td>\n",
       "      <td>0</td>\n",
       "    </tr>\n",
       "    <tr>\n",
       "      <th>3</th>\n",
       "      <td>3</td>\n",
       "      <td>5</td>\n",
       "      <td>2329</td>\n",
       "      <td>90</td>\n",
       "      <td>NaN</td>\n",
       "      <td>NaN</td>\n",
       "      <td>1.0</td>\n",
       "      <td>1020.0</td>\n",
       "      <td>2</td>\n",
       "      <td>582</td>\n",
       "      <td>1</td>\n",
       "    </tr>\n",
       "    <tr>\n",
       "      <th>4</th>\n",
       "      <td>4</td>\n",
       "      <td>6</td>\n",
       "      <td>1579</td>\n",
       "      <td>42</td>\n",
       "      <td>1.0</td>\n",
       "      <td>2.0</td>\n",
       "      <td>1.0</td>\n",
       "      <td>1494.0</td>\n",
       "      <td>3</td>\n",
       "      <td>388</td>\n",
       "      <td>1</td>\n",
       "    </tr>\n",
       "  </tbody>\n",
       "</table>\n",
       "</div>"
      ],
      "text/plain": [
       "   Unnamed: 0  customer_id  vintage  age  gender  dependents  occupation  \\\n",
       "0           0            1     2101   66     1.0         0.0         1.0   \n",
       "1           1            2     2348   35     1.0         0.0         1.0   \n",
       "2           2            4     2194   31     1.0         0.0         0.0   \n",
       "3           3            5     2329   90     NaN         NaN         1.0   \n",
       "4           4            6     1579   42     1.0         2.0         1.0   \n",
       "\n",
       "     city  customer_nw_category  branch_code  churn  \n",
       "0   187.0                     2          755      0  \n",
       "1     NaN                     2         3214      0  \n",
       "2   146.0                     2           41      0  \n",
       "3  1020.0                     2          582      1  \n",
       "4  1494.0                     3          388      1  "
      ]
     },
     "execution_count": 53,
     "metadata": {},
     "output_type": "execute_result"
    }
   ],
   "source": [
    "df.head()"
   ]
  },
  {
   "cell_type": "code",
   "execution_count": 54,
   "id": "7600762c",
   "metadata": {},
   "outputs": [
    {
     "data": {
      "text/plain": [
       "Unnamed: 0                 0\n",
       "customer_id                0\n",
       "vintage                    0\n",
       "age                        0\n",
       "gender                   525\n",
       "dependents              2463\n",
       "occupation                80\n",
       "city                     803\n",
       "customer_nw_category       0\n",
       "branch_code                0\n",
       "churn                      0\n",
       "dtype: int64"
      ]
     },
     "execution_count": 54,
     "metadata": {},
     "output_type": "execute_result"
    }
   ],
   "source": [
    "# checking for missing values\n",
    "df.isnull().sum()"
   ]
  },
  {
   "cell_type": "code",
   "execution_count": 55,
   "id": "531f0ee5",
   "metadata": {},
   "outputs": [
    {
     "data": {
      "text/plain": [
       "0    23122\n",
       "1     5260\n",
       "Name: churn, dtype: int64"
      ]
     },
     "execution_count": 55,
     "metadata": {},
     "output_type": "execute_result"
    }
   ],
   "source": [
    "# checking the distribution of Target Variable\n",
    "df['churn'].value_counts()"
   ]
  },
  {
   "cell_type": "code",
   "execution_count": 56,
   "id": "e83773de",
   "metadata": {},
   "outputs": [],
   "source": [
    "X = df.drop(columns='churn', axis=1)\n",
    "y = df['churn']"
   ]
  },
  {
   "cell_type": "code",
   "execution_count": 59,
   "id": "09c496cf",
   "metadata": {},
   "outputs": [],
   "source": [
    "X_train, X_test, Y_train, Y_test = train_test_split(X, y, test_size=0.2, stratify=Y, random_state=2)"
   ]
  },
  {
   "cell_type": "code",
   "execution_count": 45,
   "id": "2d73a40e",
   "metadata": {},
   "outputs": [],
   "source": [
    "from sklearn.metrics import accuracy_score"
   ]
  },
  {
   "cell_type": "code",
   "execution_count": 46,
   "id": "01b2d48a",
   "metadata": {},
   "outputs": [],
   "source": [
    "#Train test\n",
    "from sklearn.model_selection import train_test_split\n",
    "X_train, X_test, y_train, y_test = train_test_split(X, Y, test_size = 0.2)"
   ]
  },
  {
   "cell_type": "code",
   "execution_count": 60,
   "id": "2f6e0666",
   "metadata": {},
   "outputs": [
    {
     "name": "stdout",
     "output_type": "stream",
     "text": [
      "X_train : \n",
      "       Unnamed: 0  customer_id  vintage  age  gender  dependents  occupation  \\\n",
      "24249       24249        25876     1994   26     1.0         0.0         1.0   \n",
      "16252       16252        17341     2037   38     1.0         0.0         1.0   \n",
      "2968         2968         3165     2043   56     1.0         2.0         1.0   \n",
      "27254       27254        29100     1948   41     0.0         0.0         1.0   \n",
      "92             92           96     2424   29     0.0         0.0         0.0   \n",
      "\n",
      "         city  customer_nw_category  branch_code  \n",
      "24249  1540.0                     3         1301  \n",
      "16252   551.0                     3          550  \n",
      "2968     15.0                     2          237  \n",
      "27254  1096.0                     3          578  \n",
      "92      409.0                     2           26  \n",
      "\n",
      "X_test : \n",
      "       Unnamed: 0  customer_id  vintage  age  gender  dependents  occupation  \\\n",
      "387           387          416     2133   47     1.0         0.0         1.0   \n",
      "17340       17340        18504     2269   41     1.0         2.0         0.0   \n",
      "5285         5285         5626     1781   42     0.0         0.0         0.0   \n",
      "2220         2220         2380     2212   54     1.0         0.0         0.0   \n",
      "12902       12902        13777     2085   40     0.0         0.0         1.0   \n",
      "\n",
      "         city  customer_nw_category  branch_code  \n",
      "387     363.0                     2           31  \n",
      "17340   395.0                     2         2212  \n",
      "5285    146.0                     2          312  \n",
      "2220   1181.0                     3          235  \n",
      "12902  1214.0                     3          787  \n",
      "\n",
      "y_train : \n",
      "27778    0\n",
      "22768    0\n",
      "25158    0\n",
      "27845    0\n",
      "9807     0\n",
      "Name: churn, dtype: int64\n",
      "\n",
      "y_test : \n",
      "1430     0\n",
      "15898    0\n",
      "9356     0\n",
      "14591    0\n",
      "2098     0\n",
      "Name: churn, dtype: int64\n"
     ]
    }
   ],
   "source": [
    "# printing out train and test sets\n",
    "  \n",
    "print('X_train : ')\n",
    "print(X_train.head())\n",
    "print('')\n",
    "print('X_test : ')\n",
    "print(X_test.head())\n",
    "print('')\n",
    "print('y_train : ')\n",
    "print(y_train.head())\n",
    "print('')\n",
    "print('y_test : ')\n",
    "print(y_test.head())"
   ]
  },
  {
   "cell_type": "code",
   "execution_count": null,
   "id": "00629073",
   "metadata": {},
   "outputs": [],
   "source": []
  },
  {
   "cell_type": "code",
   "execution_count": null,
   "id": "9d108c79",
   "metadata": {},
   "outputs": [],
   "source": []
  }
 ],
 "metadata": {
  "kernelspec": {
   "display_name": "Python 3 (ipykernel)",
   "language": "python",
   "name": "python3"
  },
  "language_info": {
   "codemirror_mode": {
    "name": "ipython",
    "version": 3
   },
   "file_extension": ".py",
   "mimetype": "text/x-python",
   "name": "python",
   "nbconvert_exporter": "python",
   "pygments_lexer": "ipython3",
   "version": "3.10.2"
  }
 },
 "nbformat": 4,
 "nbformat_minor": 5
}
