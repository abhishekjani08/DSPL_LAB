{
 "cells": [
  {
   "cell_type": "code",
   "execution_count": 2,
   "id": "2b0eb4d3",
   "metadata": {},
   "outputs": [],
   "source": [
    "#import pandas\n",
    "import pandas as pd\n",
    "#import numpy\n",
    "import numpy as np\n",
    "#import matplotlib\n",
    "import matplotlib.pyplot as plt\n",
    "#import seaborn\n",
    "import seaborn as sns"
   ]
  },
  {
   "cell_type": "code",
   "execution_count": 3,
   "id": "c20f30b0",
   "metadata": {},
   "outputs": [],
   "source": [
    "# use pandas to import csv file\n",
    "df = pd.read_csv(\"House_Rent_main7.csv\")"
   ]
  },
  {
   "cell_type": "code",
   "execution_count": 7,
   "id": "7a5e262b",
   "metadata": {},
   "outputs": [
    {
     "name": "stdout",
     "output_type": "stream",
     "text": [
      "[[191  41   0   0]\n",
      " [121 321  23   0]\n",
      " [  6  88 107   5]\n",
      " [  0   5  32   4]]\n",
      "              precision    recall  f1-score   support\n",
      "\n",
      "           1       0.60      0.82      0.69       232\n",
      "           2       0.71      0.69      0.70       465\n",
      "           3       0.66      0.52      0.58       206\n",
      "           4       0.44      0.10      0.16        41\n",
      "\n",
      "    accuracy                           0.66       944\n",
      "   macro avg       0.60      0.53      0.53       944\n",
      "weighted avg       0.66      0.66      0.65       944\n",
      "\n"
     ]
    }
   ],
   "source": [
    "from sklearn.model_selection import train_test_split\n",
    "from sklearn.neighbors import KNeighborsClassifier\n",
    "from sklearn.metrics import classification_report, confusion_matrix\n",
    "\n",
    "# Assuming you have your data in a pandas DataFrame called 'df'\n",
    "X = df.drop('BHK', axis=1)\n",
    "y = df['BHK']\n",
    "\n",
    "# Split the data into training and testing sets\n",
    "X_train, X_test, y_train, y_test = train_test_split(X, y, test_size=0.2, random_state=42)\n",
    "\n",
    "# Train the KNN classifier\n",
    "k = 3  # choose the value of k\n",
    "knn = KNeighborsClassifier(n_neighbors=k)\n",
    "knn.fit(X_train, y_train)\n",
    "\n",
    "# Make predictions on the test set\n",
    "y_pred = knn.predict(X_test)\n",
    "\n",
    "# Evaluate the performance of the classifier\n",
    "print(confusion_matrix(y_test, y_pred))\n",
    "print(classification_report(y_test, y_pred))"
   ]
  },
  {
   "cell_type": "code",
   "execution_count": null,
   "id": "1c4a681e",
   "metadata": {},
   "outputs": [],
   "source": []
  }
 ],
 "metadata": {
  "kernelspec": {
   "display_name": "Python 3 (ipykernel)",
   "language": "python",
   "name": "python3"
  },
  "language_info": {
   "codemirror_mode": {
    "name": "ipython",
    "version": 3
   },
   "file_extension": ".py",
   "mimetype": "text/x-python",
   "name": "python",
   "nbconvert_exporter": "python",
   "pygments_lexer": "ipython3",
   "version": "3.10.2"
  }
 },
 "nbformat": 4,
 "nbformat_minor": 5
}
